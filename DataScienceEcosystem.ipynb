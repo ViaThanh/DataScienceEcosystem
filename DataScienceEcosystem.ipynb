{
  "nbformat": 4,
  "nbformat_minor": 0,
  "metadata": {
    "colab": {
      "provenance": []
    },
    "kernelspec": {
      "name": "python3",
      "display_name": "Python 3"
    },
    "language_info": {
      "name": "python"
    }
  },
  "cells": [
    {
      "cell_type": "markdown",
      "source": [
        "#Data Science Tools and Ecosystem"
      ],
      "metadata": {
        "id": "D7vxUdkMe67O"
      }
    },
    {
      "cell_type": "markdown",
      "source": [
        "In this notebook, Data Science Tools and Ecosystem are summarized."
      ],
      "metadata": {
        "id": "lok-HAnqfpco"
      }
    },
    {
      "cell_type": "markdown",
      "source": [
        " **Objectives:**\n",
        " - List popular languages for Data Science\n",
        " - List some of the commonly used libraries used by Data Scientists.\n",
        " - List three development environment open source tools used in Data Science"
      ],
      "metadata": {
        "id": "1qZeKymLjX__"
      }
    },
    {
      "cell_type": "markdown",
      "source": [
        "Some of the commonly used libraries used by Data Scientists include:\n",
        "+ NumPy\n",
        "+ Pandas\n",
        "+ Matplotlib\n",
        "+ Seaborn\n",
        "+ Scikit-learn\n",
        "+ TensorFlow"
      ],
      "metadata": {
        "id": "c0PqsM2HkKvk"
      }
    },
    {
      "cell_type": "markdown",
      "source": [
        "Some of the popular languages that Data Scientists use are:\n",
        "1. Python\n",
        "2. R\n",
        "3. Julia\n",
        "4. Java"
      ],
      "metadata": {
        "id": "7L4DT7QBgFK0"
      }
    },
    {
      "cell_type": "markdown",
      "source": [
        "|Data Science Tools|\n",
        "|------------------|\n",
        "|Jupyter Notebooks|\n",
        "|RStudio|\n",
        "|Visual Studio Code (VS Code)|"
      ],
      "metadata": {
        "id": "OGpCEwvAgSZ1"
      }
    },
    {
      "cell_type": "markdown",
      "source": [
        "### Below are a few examples of evaluating arithmetic expressions in Python"
      ],
      "metadata": {
        "id": "31Jh5_98hZ_-"
      }
    },
    {
      "cell_type": "code",
      "execution_count": 3,
      "metadata": {
        "id": "hmXN71ECelMR",
        "colab": {
          "base_uri": "https://localhost:8080/"
        },
        "outputId": "caa9b232-6758-4dca-a7ff-8e7167a19500"
      },
      "outputs": [
        {
          "output_type": "execute_result",
          "data": {
            "text/plain": [
              "17"
            ]
          },
          "metadata": {},
          "execution_count": 3
        }
      ],
      "source": [
        "# This a simple arithmetic expression to mutiply then add integers\n",
        " (3*4)+5"
      ]
    },
    {
      "cell_type": "code",
      "source": [
        "# This will convert 200 minutes to hours by diving by 60\n",
        "minutes = 200\n",
        "hours = minutes/60\n",
        "print(hours)"
      ],
      "metadata": {
        "colab": {
          "base_uri": "https://localhost:8080/"
        },
        "id": "aFK6ZKQJi_kN",
        "outputId": "daba8003-12d5-46d5-9352-841a9ee233cd"
      },
      "execution_count": 5,
      "outputs": [
        {
          "output_type": "stream",
          "name": "stdout",
          "text": [
            "3.3333333333333335\n"
          ]
        }
      ]
    },
    {
      "cell_type": "markdown",
      "source": [
        "## Author\n",
        "\n",
        "Nguyễn Thanh Vy"
      ],
      "metadata": {
        "id": "q23BAUuTlk9R"
      }
    }
  ]
}